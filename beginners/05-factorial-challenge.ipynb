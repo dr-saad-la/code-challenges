{
 "cells": [
  {
   "cell_type": "code",
   "execution_count": null,
   "id": "dd299445-f030-4b93-83d3-a83e57050c8f",
   "metadata": {},
   "outputs": [],
   "source": [
    "### ==============================================================\n",
    "###                                                             ===\n",
    "###                REPOSITORY: Code Challenges 🧠               ===\n",
    "###                AUTHOR: Dr. Saad Laouadi                     ===\n",
    "###                                                             ===\n",
    "### ==============================================================\n",
    "###                CHALLENGE TITLE: Factorial Calculation        ===\n",
    "###                DIFFICULTY: Beginner                         ===\n",
    "###                LANGUAGE: Python                             ===\n",
    "###                TOPIC: Recursion, Loops                      ===\n",
    "###                ESTIMATED COMPLETION TIME: 10-15 minutes     ===\n",
    "### =============================================================="
   ]
  },
  {
   "cell_type": "markdown",
   "id": "7c423ebf-3736-4a33-ac50-7f133825d1c9",
   "metadata": {},
   "source": [
    "### Description:\n",
    "In this challenge, you will write a function that calculates the factorial of a given number. A factorial of a number `n` is the product of all integers from 1 to `n`. This challenge can be solved either through recursion or using loops. The goal is to practice writing recursive functions and/or working with loops in Python.\n",
    "\n",
    "### Learning Objectives:\n",
    "- **Master Recursion**: Learn how to write recursive functions to solve problems like factorial calculation.\n",
    "- **Practice Looping**: Understand how to implement loop-based solutions to compute factorials.\n",
    "  \n",
    "### Challenge Instructions:\n",
    "1. **Define a Function**: Write a Python function that calculates the factorial of a given number `n`.\n",
    "2. **Choose a Method**: Solve this using either recursion or loop-based programming.\n",
    "3. **Handle Edge Cases**: Make sure the function handles cases like `n = 0`, which should return `1` (since `0! = 1`).\n",
    "\n",
    "---\n",
    "\n",
    "### Input & Output:\n",
    "- **Input**: A single integer `n`.\n",
    "- **Output**: The factorial of the number `n`.\n",
    "\n",
    "### Constraints:\n",
    "- The number `n` will be a non-negative integer.\n",
    "\n",
    "---\n",
    "\n",
    "### Related Topics:\n",
    "- **Recursion**\n",
    "- **Looping**\n",
    "  \n",
    "---\n",
    "\n",
    "**Goal**:\n",
    "- Practice recursion or loop-based programming to solve mathematical problems like factorial calculation.\n",
    "\n",
    "---\n",
    "\n",
    "**Copyright © Dr. Saad Laouadi**"
   ]
  },
  {
   "cell_type": "code",
   "execution_count": 1,
   "id": "60d837a4-408d-4021-ade1-36f58de8b065",
   "metadata": {},
   "outputs": [],
   "source": [
    "# Write Your Solution Here\n"
   ]
  },
  {
   "cell_type": "code",
   "execution_count": null,
   "id": "a0ec9738-5162-40b6-b74c-7078e335f0ec",
   "metadata": {},
   "outputs": [],
   "source": []
  },
  {
   "cell_type": "code",
   "execution_count": null,
   "id": "3618288e-7070-4a38-ad48-bb49960e1e6a",
   "metadata": {},
   "outputs": [],
   "source": []
  },
  {
   "cell_type": "code",
   "execution_count": null,
   "id": "9bc098fd-2579-4baa-88cc-c2639f3ec108",
   "metadata": {},
   "outputs": [],
   "source": []
  },
  {
   "cell_type": "code",
   "execution_count": null,
   "id": "bb06759a-a972-4560-b6d7-7e982fed68b2",
   "metadata": {},
   "outputs": [],
   "source": []
  },
  {
   "cell_type": "code",
   "execution_count": null,
   "id": "32ef1a17-fe6c-44e1-a21c-9a9997fe5f1b",
   "metadata": {},
   "outputs": [],
   "source": []
  },
  {
   "cell_type": "code",
   "execution_count": null,
   "id": "d4906590-745b-4576-a3ba-20e6b870b24d",
   "metadata": {},
   "outputs": [],
   "source": []
  },
  {
   "cell_type": "code",
   "execution_count": null,
   "id": "bc7ad217-fc9e-425b-a4f2-8e277c7d7767",
   "metadata": {},
   "outputs": [],
   "source": []
  },
  {
   "cell_type": "code",
   "execution_count": null,
   "id": "c656b87d-affa-4495-8be7-6ecc16ff90f8",
   "metadata": {},
   "outputs": [],
   "source": []
  },
  {
   "cell_type": "code",
   "execution_count": null,
   "id": "7c12b3be-b1e0-4577-a570-3da2a2939e4c",
   "metadata": {},
   "outputs": [],
   "source": []
  },
  {
   "cell_type": "code",
   "execution_count": null,
   "id": "83791a55-9c74-4735-b5b3-7369b5e7dd5a",
   "metadata": {},
   "outputs": [],
   "source": []
  },
  {
   "cell_type": "code",
   "execution_count": null,
   "id": "7ae2fd9f-0a55-4d69-9c9a-f7a09ef58884",
   "metadata": {},
   "outputs": [],
   "source": []
  },
  {
   "cell_type": "code",
   "execution_count": null,
   "id": "14304e8a-7372-42b0-98d9-f794b22048df",
   "metadata": {},
   "outputs": [],
   "source": []
  },
  {
   "cell_type": "code",
   "execution_count": null,
   "id": "3566bf91-7b1d-4545-a17a-3edb7cf0c0cc",
   "metadata": {},
   "outputs": [],
   "source": []
  },
  {
   "cell_type": "code",
   "execution_count": null,
   "id": "4c04cdd6-1ce6-4edb-9adc-cc6b2fcce028",
   "metadata": {},
   "outputs": [],
   "source": []
  },
  {
   "cell_type": "code",
   "execution_count": null,
   "id": "603138c5-d4bb-4fb2-81b9-86d3d521e94f",
   "metadata": {},
   "outputs": [],
   "source": []
  },
  {
   "cell_type": "code",
   "execution_count": null,
   "id": "892a6388-8aca-4ad5-91c4-ab4aa4e58b46",
   "metadata": {},
   "outputs": [],
   "source": []
  },
  {
   "cell_type": "code",
   "execution_count": null,
   "id": "4965aa34-c574-43ab-b7cf-63f755ea7f04",
   "metadata": {},
   "outputs": [],
   "source": []
  },
  {
   "cell_type": "code",
   "execution_count": 2,
   "id": "b8231dee-20ae-4b12-8954-0d3aeb2c24e2",
   "metadata": {},
   "outputs": [
    {
     "name": "stdout",
     "output_type": "stream",
     "text": [
      "120\n"
     ]
    }
   ],
   "source": [
    "def factorial(n):\n",
    "    if n == 0:\n",
    "        return 1\n",
    "    else:\n",
    "        return n * factorial(n - 1)\n",
    "\n",
    "print(factorial(5)) "
   ]
  }
 ],
 "metadata": {
  "kernelspec": {
   "display_name": "Python3.12",
   "language": "python",
   "name": "python3"
  },
  "language_info": {
   "codemirror_mode": {
    "name": "ipython",
    "version": 3
   },
   "file_extension": ".py",
   "mimetype": "text/x-python",
   "name": "python",
   "nbconvert_exporter": "python",
   "pygments_lexer": "ipython3",
   "version": "3.12.3"
  }
 },
 "nbformat": 4,
 "nbformat_minor": 5
}
