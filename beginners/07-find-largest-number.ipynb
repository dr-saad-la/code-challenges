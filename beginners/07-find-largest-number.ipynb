{
 "cells": [
  {
   "cell_type": "code",
   "execution_count": null,
   "id": "ee26695c-08de-4ab7-9b56-8e01d82fb91d",
   "metadata": {},
   "outputs": [],
   "source": [
    "### ==============================================================\n",
    "###                                                             ===\n",
    "###                REPOSITORY: Code Challenges 🧠               ===\n",
    "###                AUTHOR: Dr. Saad Laouadi                     ===\n",
    "###                                                             ===\n",
    "### ==============================================================\n",
    "###                CHALLENGE TITLE: Find the Largest Number      ===\n",
    "###                DIFFICULTY: Beginner                         ===\n",
    "###                LANGUAGE: Python                             ===\n",
    "###                TOPIC: Lists, Built-in Functions             ===\n",
    "###                ESTIMATED COMPLETION TIME: 5-10 minutes      ===\n",
    "### =============================================================="
   ]
  },
  {
   "cell_type": "markdown",
   "id": "31af0693-d505-4100-9a04-5391bde21cd5",
   "metadata": {},
   "source": [
    "### Description:\n",
    "In this challenge, you will write a Python function that accepts a list of numbers and returns the largest number in the list. This exercise helps you practice working with lists and introduces Python's built-in `max()` function for efficient calculations.\n",
    "\n",
    "### Learning Objectives:\n",
    "- **List Manipulation**: Learn how to work with lists in Python, including accessing elements and using built-in functions.\n",
    "- **Using Built-in Functions**: Understand how to use Python's built-in `max()` function to find the largest value in a list.\n",
    "  \n",
    "### Challenge Instructions:\n",
    "1. **Define a Function**: Write a Python function that accepts a list of numbers.\n",
    "2. **Find the Largest Number**: Use the `max()` function or manually iterate through the list to find the largest number.\n",
    "3. **Return the Result**: Return the largest number found in the list.\n",
    "\n",
    "---\n",
    "\n",
    "### Input & Output:\n",
    "- **Input**: A list of numbers.\n",
    "- **Output**: The largest number in the list.\n",
    "\n",
    "### Constraints:\n",
    "- The list will contain at least one number, and all numbers are integers or floats.\n",
    "\n",
    "---\n",
    "\n",
    "### Related Topics:\n",
    "- **Lists**\n",
    "- **Built-in Functions**\n",
    "  \n",
    "---\n",
    "\n",
    "**Goal**:\n",
    "- Practice working with lists and Python's built-in functions, such as `max()`.\n",
    "\n",
    "---\n",
    "\n",
    "**Copyright © Dr. Saad Laouadi**"
   ]
  },
  {
   "cell_type": "code",
   "execution_count": null,
   "id": "ceb1d516-659d-4d7d-bc3e-2979deb9e140",
   "metadata": {},
   "outputs": [],
   "source": [
    "# Write your solution here\n"
   ]
  },
  {
   "cell_type": "code",
   "execution_count": null,
   "id": "61ca1289-53b0-4c87-b914-e9030ce763b3",
   "metadata": {},
   "outputs": [],
   "source": []
  },
  {
   "cell_type": "code",
   "execution_count": null,
   "id": "8eef703f-05c0-4265-bfaf-8b49fc1a0a12",
   "metadata": {},
   "outputs": [],
   "source": []
  },
  {
   "cell_type": "code",
   "execution_count": null,
   "id": "6d11f888-9a57-499b-8688-23c11e39d8b3",
   "metadata": {},
   "outputs": [],
   "source": []
  },
  {
   "cell_type": "code",
   "execution_count": null,
   "id": "8dc89363-e9fb-4889-ba8c-6aad6dd76e4c",
   "metadata": {},
   "outputs": [],
   "source": []
  },
  {
   "cell_type": "code",
   "execution_count": null,
   "id": "27d5187e-8e23-4217-b52d-d20890a9386c",
   "metadata": {},
   "outputs": [],
   "source": []
  },
  {
   "cell_type": "code",
   "execution_count": null,
   "id": "396963d4-aacb-4b31-b198-660f6b3f691e",
   "metadata": {},
   "outputs": [],
   "source": []
  },
  {
   "cell_type": "code",
   "execution_count": null,
   "id": "27c14465-5531-491c-81fe-74f3b01e64dd",
   "metadata": {},
   "outputs": [],
   "source": []
  },
  {
   "cell_type": "code",
   "execution_count": null,
   "id": "3bd67889-d746-448f-bff4-a4fe3d6b7ea0",
   "metadata": {},
   "outputs": [],
   "source": []
  },
  {
   "cell_type": "code",
   "execution_count": null,
   "id": "d5db0f42-29f3-4ba2-a9dc-baed78348ad4",
   "metadata": {},
   "outputs": [],
   "source": []
  },
  {
   "cell_type": "code",
   "execution_count": null,
   "id": "32c18cc2-4840-4901-93e1-e5ccdbd24bd2",
   "metadata": {},
   "outputs": [],
   "source": []
  },
  {
   "cell_type": "code",
   "execution_count": null,
   "id": "6ac49c92-f344-4e8c-82e6-6db386d0c945",
   "metadata": {},
   "outputs": [],
   "source": []
  },
  {
   "cell_type": "code",
   "execution_count": null,
   "id": "7847f277-2c14-4d29-a338-df5305815f03",
   "metadata": {},
   "outputs": [],
   "source": []
  },
  {
   "cell_type": "code",
   "execution_count": null,
   "id": "593b2bee-dd42-4658-8d37-f44b009b7f85",
   "metadata": {},
   "outputs": [],
   "source": []
  },
  {
   "cell_type": "code",
   "execution_count": null,
   "id": "529d2525-7f34-4b96-b745-6090c23250cf",
   "metadata": {},
   "outputs": [],
   "source": []
  },
  {
   "cell_type": "code",
   "execution_count": null,
   "id": "569e817e-fc1a-4476-b26f-b6ea4dabc822",
   "metadata": {},
   "outputs": [],
   "source": []
  },
  {
   "cell_type": "code",
   "execution_count": null,
   "id": "d1836496-37b3-4fd6-95be-c1450cd99840",
   "metadata": {},
   "outputs": [],
   "source": []
  },
  {
   "cell_type": "code",
   "execution_count": null,
   "id": "238912ed-3d77-43c4-b0e1-332d30a3cd1c",
   "metadata": {},
   "outputs": [],
   "source": []
  },
  {
   "cell_type": "code",
   "execution_count": null,
   "id": "1f87cb8f-f175-4e03-b102-a2729fea3017",
   "metadata": {},
   "outputs": [],
   "source": []
  },
  {
   "cell_type": "code",
   "execution_count": null,
   "id": "2eb87d9e-0db7-4c6c-95ab-e0bf37c6233b",
   "metadata": {},
   "outputs": [],
   "source": []
  },
  {
   "cell_type": "code",
   "execution_count": null,
   "id": "f4716206-dcfe-4c3f-9b50-0902b911fcc5",
   "metadata": {},
   "outputs": [],
   "source": []
  },
  {
   "cell_type": "code",
   "execution_count": null,
   "id": "8a41ed7b-0e21-4957-96f1-96984560b0a2",
   "metadata": {},
   "outputs": [],
   "source": []
  },
  {
   "cell_type": "code",
   "execution_count": 1,
   "id": "cbb9e909-871d-4e18-ba16-9423541e25e0",
   "metadata": {},
   "outputs": [
    {
     "name": "stdout",
     "output_type": "stream",
     "text": [
      "9\n"
     ]
    }
   ],
   "source": [
    "def find_largest(numbers):\n",
    "    return max(numbers)\n",
    "\n",
    "\n",
    "print(find_largest([1, 5, 3, 9, 2]))  "
   ]
  },
  {
   "cell_type": "code",
   "execution_count": null,
   "id": "c96dcd98-8f94-4364-8539-99e8d8ff0166",
   "metadata": {},
   "outputs": [],
   "source": []
  }
 ],
 "metadata": {
  "kernelspec": {
   "display_name": "Python3.12",
   "language": "python",
   "name": "python3"
  },
  "language_info": {
   "codemirror_mode": {
    "name": "ipython",
    "version": 3
   },
   "file_extension": ".py",
   "mimetype": "text/x-python",
   "name": "python",
   "nbconvert_exporter": "python",
   "pygments_lexer": "ipython3",
   "version": "3.12.3"
  }
 },
 "nbformat": 4,
 "nbformat_minor": 5
}
