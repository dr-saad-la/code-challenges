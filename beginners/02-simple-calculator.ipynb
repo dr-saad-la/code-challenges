{
 "cells": [
  {
   "cell_type": "code",
   "execution_count": 1,
   "id": "fdf1b18e-dd13-4547-bd3a-28f5922c1f1d",
   "metadata": {},
   "outputs": [],
   "source": [
    "### ==============================================================\n",
    "###                                                             ===\n",
    "###                REPOSITORY: Code Challenges 🧠               ===\n",
    "###                AUTHOR: Dr. Saad Laouadi                     ===\n",
    "###                                                             ===\n",
    "### ==============================================================\n",
    "###                CHALLENGE TITLE: Simple Calculator           ===\n",
    "###                DIFFICULTY: Beginner                         ===\n",
    "###                LANGUAGE: Python                             ===\n",
    "###                TOPIC: User Input, Functions                 ===\n",
    "###                ESTIMATED COMPLETION TIME: 10-15 minutes     ===\n",
    "### =============================================================="
   ]
  },
  {
   "cell_type": "markdown",
   "id": "c5f26a38-da82-4a64-a02b-e3b20db60ec5",
   "metadata": {},
   "source": [
    "### Description:\n",
    "In this challenge, you will create a Python function that takes two numbers and a mathematical operation (`+`, `-`, `*`, or `/`) as input and returns the result. The function should handle basic arithmetic operations like addition, subtraction, multiplication, and division. This challenge helps you practice working with user input, functions, and conditional statements.\n",
    "\n",
    "### Learning Objectives:\n",
    "- Understand how to write a Python function that accepts user input.\n",
    "- Learn to implement basic arithmetic operations in Python.\n",
    "- Practice using conditionals (`if-elif-else`) to handle different operations.\n",
    "\n",
    "### Challenge Instructions:\n",
    "1. **Create a Function**: Write a Python function that accepts two numbers and an arithmetic operator (`+`, `-`, `*`, `/`).\n",
    "2. **Return the Result**: Based on the operation provided, return the correct result.\n",
    "3. **Handle Division**: Ensure that division by zero is handled properly, returning an appropriate error message.\n",
    "\n",
    "---\n",
    "\n",
    "### Input & Output:\n",
    "- **Input**: Two numbers and an arithmetic operator.\n",
    "- **Output**: The result of the arithmetic operation.\n",
    "\n",
    "### Constraints:\n",
    "- The function should support four operations: addition, subtraction, multiplication, and division.\n",
    "\n",
    "---\n",
    "\n",
    "### Related Topics:\n",
    "- **Functions**\n",
    "- **User Input**\n",
    "- **Conditional Statements**\n",
    "  \n",
    "---\n",
    "\n",
    "**Goal**:\n",
    "- Practice working with user input and writing Python functions to solve problems.\n",
    "\n",
    "---\n",
    "\n",
    "**Copyright © Dr. Saad Laouadi**"
   ]
  },
  {
   "cell_type": "code",
   "execution_count": null,
   "id": "288b04c5-809f-4f2e-88d1-be1bbfcbe41f",
   "metadata": {},
   "outputs": [],
   "source": [
    "# Write your solution here\n"
   ]
  },
  {
   "cell_type": "code",
   "execution_count": null,
   "id": "913d0523-1354-41ab-b207-efb6649e0644",
   "metadata": {},
   "outputs": [],
   "source": []
  },
  {
   "cell_type": "code",
   "execution_count": null,
   "id": "393820e3-fe12-463e-b195-27168804f0d1",
   "metadata": {},
   "outputs": [],
   "source": []
  },
  {
   "cell_type": "code",
   "execution_count": null,
   "id": "82eede79-15ef-452c-9fac-bdccce33b3c9",
   "metadata": {},
   "outputs": [],
   "source": []
  },
  {
   "cell_type": "code",
   "execution_count": null,
   "id": "6c422ec9-3d21-450e-8041-2866fe227d14",
   "metadata": {},
   "outputs": [],
   "source": []
  },
  {
   "cell_type": "code",
   "execution_count": null,
   "id": "7ad93e30-b612-4021-8d9e-d5f0d3322157",
   "metadata": {},
   "outputs": [],
   "source": []
  },
  {
   "cell_type": "code",
   "execution_count": null,
   "id": "6dc7843a-c075-4114-865d-1e6d63674d31",
   "metadata": {},
   "outputs": [],
   "source": []
  },
  {
   "cell_type": "code",
   "execution_count": null,
   "id": "4e75d0d7-fe72-4016-b196-39ac8061a731",
   "metadata": {},
   "outputs": [],
   "source": []
  },
  {
   "cell_type": "code",
   "execution_count": null,
   "id": "3cbefe43-d3c5-4b42-873c-b258ed186a2b",
   "metadata": {},
   "outputs": [],
   "source": []
  },
  {
   "cell_type": "code",
   "execution_count": null,
   "id": "8fc475d6-7059-434e-86cd-7ae46f20d02d",
   "metadata": {},
   "outputs": [],
   "source": []
  },
  {
   "cell_type": "code",
   "execution_count": null,
   "id": "a0bcd49d-8670-4fec-aa9b-38d1c9056916",
   "metadata": {},
   "outputs": [],
   "source": []
  },
  {
   "cell_type": "code",
   "execution_count": null,
   "id": "042357b4-1efc-4ee2-9fe7-51f3f7057335",
   "metadata": {},
   "outputs": [],
   "source": []
  },
  {
   "cell_type": "code",
   "execution_count": null,
   "id": "85efa5f9-3616-47b5-9ecc-2d7e755eff84",
   "metadata": {},
   "outputs": [],
   "source": []
  },
  {
   "cell_type": "code",
   "execution_count": null,
   "id": "00f1aef6-43e6-4107-9542-39edce9e5abf",
   "metadata": {},
   "outputs": [],
   "source": []
  },
  {
   "cell_type": "code",
   "execution_count": null,
   "id": "ed66cd3b-666b-4497-b0ea-bc877fa229c4",
   "metadata": {},
   "outputs": [],
   "source": []
  },
  {
   "cell_type": "code",
   "execution_count": null,
   "id": "356be52a-bd21-4cb2-9305-1cebeb85db37",
   "metadata": {},
   "outputs": [],
   "source": []
  },
  {
   "cell_type": "code",
   "execution_count": null,
   "id": "4a1c6a74-77f3-49c9-9feb-b67a98dc772d",
   "metadata": {},
   "outputs": [],
   "source": []
  },
  {
   "cell_type": "code",
   "execution_count": null,
   "id": "bb1fa9b3-9129-43d5-9fe3-d50fdf0d0f4e",
   "metadata": {},
   "outputs": [],
   "source": []
  },
  {
   "cell_type": "code",
   "execution_count": null,
   "id": "dac773cc-2d59-4ce5-8c32-9955b6491437",
   "metadata": {},
   "outputs": [],
   "source": []
  },
  {
   "cell_type": "code",
   "execution_count": null,
   "id": "e89161b9-bd18-4a27-b0d8-cb22a50975cb",
   "metadata": {},
   "outputs": [],
   "source": []
  },
  {
   "cell_type": "code",
   "execution_count": null,
   "id": "b2da5da2-de2d-4d14-b2f7-add36c653fab",
   "metadata": {},
   "outputs": [],
   "source": []
  },
  {
   "cell_type": "code",
   "execution_count": null,
   "id": "2fc24392-e594-4a77-a0dc-0c84b1143669",
   "metadata": {},
   "outputs": [],
   "source": []
  },
  {
   "cell_type": "code",
   "execution_count": null,
   "id": "692ad99c-1fdd-4063-a7ca-5d8231fb30ec",
   "metadata": {},
   "outputs": [],
   "source": []
  },
  {
   "cell_type": "code",
   "execution_count": 3,
   "id": "f265648d-fffb-471f-923e-b39ad3778a54",
   "metadata": {},
   "outputs": [],
   "source": [
    "# Solution\n",
    "def calculator(num1, num2, operator):\n",
    "    if operator == '+':\n",
    "        return num1 + num2\n",
    "    elif operator == '-':\n",
    "        return num1 - num2\n",
    "    elif operator == '*':\n",
    "        return num1 * num2\n",
    "    elif operator == '/':\n",
    "        if num2 != 0:\n",
    "            return num1 / num2\n",
    "        else:\n",
    "            return \"Cannot divide by zero.\"\n",
    "    else:\n",
    "        return \"Invalid operator.\""
   ]
  },
  {
   "cell_type": "code",
   "execution_count": 4,
   "id": "d0909140-c242-4bdc-a084-b42905b095c6",
   "metadata": {},
   "outputs": [
    {
     "name": "stdout",
     "output_type": "stream",
     "text": [
      "15\n",
      "Cannot divide by zero.\n"
     ]
    }
   ],
   "source": [
    "print(calculator(10, 5, '+')) \n",
    "print(calculator(10, 0, '/')) "
   ]
  },
  {
   "cell_type": "code",
   "execution_count": null,
   "id": "dc12f6e0-0df0-45cc-9a89-193507f5e940",
   "metadata": {},
   "outputs": [],
   "source": []
  }
 ],
 "metadata": {
  "kernelspec": {
   "display_name": "Python3.12",
   "language": "python",
   "name": "python3"
  },
  "language_info": {
   "codemirror_mode": {
    "name": "ipython",
    "version": 3
   },
   "file_extension": ".py",
   "mimetype": "text/x-python",
   "name": "python",
   "nbconvert_exporter": "python",
   "pygments_lexer": "ipython3",
   "version": "3.12.3"
  }
 },
 "nbformat": 4,
 "nbformat_minor": 5
}
