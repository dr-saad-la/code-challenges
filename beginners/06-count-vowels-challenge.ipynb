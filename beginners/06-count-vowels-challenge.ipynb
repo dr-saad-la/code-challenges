{
 "cells": [
  {
   "cell_type": "code",
   "execution_count": null,
   "id": "e9b8e268-dc60-4ef6-87ec-7f7a7926297f",
   "metadata": {},
   "outputs": [],
   "source": [
    "### ==============================================================\n",
    "###                                                             ===\n",
    "###                REPOSITORY: Code Challenges 🧠               ===\n",
    "###                AUTHOR: Dr. Saad Laouadi                     ===\n",
    "###                                                             ===\n",
    "### ==============================================================\n",
    "###                CHALLENGE TITLE: Count Vowels in a String     ===\n",
    "###                DIFFICULTY: Beginner                         ===\n",
    "###                LANGUAGE: Python                             ===\n",
    "###                TOPIC: Strings, Loops                        ===\n",
    "###                ESTIMATED COMPLETION TIME: 5-10 minutes      ===\n",
    "### =============================================================="
   ]
  },
  {
   "cell_type": "markdown",
   "id": "ed786837-5da1-477d-b9ec-efab92214655",
   "metadata": {},
   "source": [
    "### Description:\n",
    "In this challenge, you will write a Python function that takes a string as input and counts how many vowels (a, e, i, o, u) are present in the string. The challenge helps you practice working with strings, loops, and conditionals to perform character-based operations.\n",
    "\n",
    "### Learning Objectives:\n",
    "- **String Manipulation**: Learn how to iterate over a string and check for specific characters.\n",
    "- **Looping Through Strings**: Practice using loops to traverse strings character by character.\n",
    "- **Conditionals**: Implement conditionals to check whether a character is a vowel.\n",
    "\n",
    "### Challenge Instructions:\n",
    "1. **Define a Function**: Write a Python function that takes a string as input.\n",
    "2. **Loop Through the String**: Use a loop to iterate over each character in the string.\n",
    "3. **Check for Vowels**: Count the number of vowels (a, e, i, o, u) present in the string, both lowercase and uppercase.\n",
    "4. **Return the Count**: Return the total number of vowels found in the string.\n",
    "\n",
    "---\n",
    "\n",
    "### Input & Output:\n",
    "- **Input**: A single string.\n",
    "- **Output**: The number of vowels (a, e, i, o, u) present in the string.\n",
    "\n",
    "### Constraints:\n",
    "- The string can contain both uppercase and lowercase letters.\n",
    "\n",
    "---\n",
    "\n",
    "### Related Topics:\n",
    "- **String Manipulation**\n",
    "- **Looping**\n",
    "  \n",
    "---\n",
    "\n",
    "**Goal**:\n",
    "- Work with strings and loops to count specific characters within the text.\n",
    "\n",
    "---\n",
    "\n",
    "**Copyright © Dr. Saad Laouadi**"
   ]
  },
  {
   "cell_type": "code",
   "execution_count": null,
   "id": "354bec98-2507-4fcf-a9a7-f5fc273cb125",
   "metadata": {},
   "outputs": [],
   "source": [
    "# Write your solution here\n"
   ]
  },
  {
   "cell_type": "code",
   "execution_count": null,
   "id": "96e70621-dba2-41d7-bfdb-6d6aa51fb044",
   "metadata": {},
   "outputs": [],
   "source": []
  },
  {
   "cell_type": "code",
   "execution_count": null,
   "id": "0538a7dd-5fe5-4876-8680-0001b3a92829",
   "metadata": {},
   "outputs": [],
   "source": []
  },
  {
   "cell_type": "code",
   "execution_count": null,
   "id": "1c7d57d6-aa68-4c18-9357-274bb1bb764e",
   "metadata": {},
   "outputs": [],
   "source": []
  },
  {
   "cell_type": "code",
   "execution_count": null,
   "id": "db857751-53ef-4b9f-86d1-093a01298530",
   "metadata": {},
   "outputs": [],
   "source": []
  },
  {
   "cell_type": "code",
   "execution_count": null,
   "id": "42a2f074-21a5-4faf-83e8-8e404617f2c4",
   "metadata": {},
   "outputs": [],
   "source": []
  },
  {
   "cell_type": "code",
   "execution_count": null,
   "id": "7fb0bff0-5a3a-42a1-b1ae-9d1e5b4070c7",
   "metadata": {},
   "outputs": [],
   "source": []
  },
  {
   "cell_type": "code",
   "execution_count": null,
   "id": "85dd2234-2b86-4e21-94f3-c6a8225b6e74",
   "metadata": {},
   "outputs": [],
   "source": []
  },
  {
   "cell_type": "code",
   "execution_count": null,
   "id": "ffb8df7a-ea7f-4bf7-b789-284f4da9a8ff",
   "metadata": {},
   "outputs": [],
   "source": []
  },
  {
   "cell_type": "code",
   "execution_count": null,
   "id": "6b90cc74-78ec-48f4-8921-e41e73853cf0",
   "metadata": {},
   "outputs": [],
   "source": []
  },
  {
   "cell_type": "code",
   "execution_count": null,
   "id": "1a8f9874-7257-4741-98cc-87287bfc2d47",
   "metadata": {},
   "outputs": [],
   "source": []
  },
  {
   "cell_type": "code",
   "execution_count": null,
   "id": "d57bd4bd-6942-48c9-ad31-c785554026cc",
   "metadata": {},
   "outputs": [],
   "source": []
  },
  {
   "cell_type": "code",
   "execution_count": null,
   "id": "aac6e6e5-29cb-4a18-9339-961fc6e787bf",
   "metadata": {},
   "outputs": [],
   "source": []
  },
  {
   "cell_type": "code",
   "execution_count": null,
   "id": "0cfc2e48-da99-4a19-b1ea-1e188cf6740e",
   "metadata": {},
   "outputs": [],
   "source": []
  },
  {
   "cell_type": "code",
   "execution_count": null,
   "id": "c8cb92f1-cbd5-4c5d-9f17-a231c74baf1c",
   "metadata": {},
   "outputs": [],
   "source": []
  },
  {
   "cell_type": "code",
   "execution_count": null,
   "id": "fd02c752-6d0f-4c6e-972d-52311e57c9e8",
   "metadata": {},
   "outputs": [],
   "source": []
  },
  {
   "cell_type": "code",
   "execution_count": null,
   "id": "41594e29-8439-410e-b81d-b619b0c32e65",
   "metadata": {},
   "outputs": [],
   "source": []
  },
  {
   "cell_type": "code",
   "execution_count": null,
   "id": "a7ffdca6-c3a1-4d27-8f83-92c1d85baa79",
   "metadata": {},
   "outputs": [],
   "source": []
  },
  {
   "cell_type": "code",
   "execution_count": 1,
   "id": "d0fc377f-3491-4178-9531-4502d01302e2",
   "metadata": {},
   "outputs": [
    {
     "name": "stdout",
     "output_type": "stream",
     "text": [
      "3\n"
     ]
    }
   ],
   "source": [
    "def count_vowels(text):\n",
    "    vowels = \"aeiouAEIOU\"\n",
    "    count = 0\n",
    "    for char in text:\n",
    "        if char in vowels:\n",
    "            count += 1\n",
    "    return count\n",
    "\n",
    "print(count_vowels(\"Hello World\")) "
   ]
  }
 ],
 "metadata": {
  "kernelspec": {
   "display_name": "Python3.12",
   "language": "python",
   "name": "python3"
  },
  "language_info": {
   "codemirror_mode": {
    "name": "ipython",
    "version": 3
   },
   "file_extension": ".py",
   "mimetype": "text/x-python",
   "name": "python",
   "nbconvert_exporter": "python",
   "pygments_lexer": "ipython3",
   "version": "3.12.3"
  }
 },
 "nbformat": 4,
 "nbformat_minor": 5
}
