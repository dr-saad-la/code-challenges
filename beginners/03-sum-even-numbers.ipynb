{
 "cells": [
  {
   "cell_type": "code",
   "execution_count": null,
   "id": "eb4ef8a9-7915-4f17-83ec-fd69d5bbda88",
   "metadata": {},
   "outputs": [],
   "source": [
    "### ==============================================================\n",
    "###                                                             ===\n",
    "###                REPOSITORY: Code Challenges 🧠               ===\n",
    "###                AUTHOR: Dr. Saad Laouadi                     ===\n",
    "###                                                             ===\n",
    "### ==============================================================\n",
    "###                CHALLENGE TITLE: Sum of Even Numbers          ===\n",
    "###                DIFFICULTY: Beginner                         ===\n",
    "###                LANGUAGE: Python                             ===\n",
    "###                TOPIC: Loops and Conditionals                ===\n",
    "###                ESTIMATED COMPLETION TIME: 5-10 minutes      ===\n",
    "### =============================================================="
   ]
  },
  {
   "cell_type": "markdown",
   "id": "886bf9da-3f7c-40ee-8790-db11d142edc5",
   "metadata": {},
   "source": [
    "### Description:\n",
    "In this challenge, you will write a Python program to calculate the sum of all even numbers from 1 to 100. This task requires using loops and conditionals to filter data and efficiently sum the desired numbers.\n",
    "\n",
    "### Learning Objectives:\n",
    "- **Master Loops**: Understand how to iterate through a range of numbers.\n",
    "- **Conditionals**: Learn how to filter even numbers using conditionals.\n",
    "- **Summing Data**: Practice accumulating values in a loop to get the final sum.\n",
    "\n",
    "### Challenge Instructions:\n",
    "1. **Loop through numbers**: Write a loop to iterate from 1 to 100.\n",
    "2. **Filter even numbers**: Use conditional logic to only add even numbers to the sum.\n",
    "3. **Calculate and print**: Print the final sum of all even numbers.\n",
    "\n",
    "---\n",
    "\n",
    "### Input & Output:\n",
    "- **Input**: No inputs are required.\n",
    "- **Output**: The sum of all even numbers between 1 and 100.\n",
    "\n",
    "### Constraints:\n",
    "- Use basic loops and conditionals only.\n",
    "\n",
    "---\n",
    "\n",
    "### Related Topics:\n",
    "- **Loops**\n",
    "- **Conditionals**\n",
    "- **Accumulation Patterns**\n",
    "  \n",
    "---\n",
    "\n",
    "**Goal**:\n",
    "- Learn how to use loops and conditions to filter data and perform cumulative calculations.\n",
    "\n",
    "---\n",
    "\n",
    "**Copyright © Dr. Saad Laouadi**"
   ]
  },
  {
   "cell_type": "code",
   "execution_count": 1,
   "id": "26717e87-575b-491e-b7a4-a78724bd65d2",
   "metadata": {},
   "outputs": [],
   "source": [
    "# Write your solution here\n"
   ]
  },
  {
   "cell_type": "code",
   "execution_count": null,
   "id": "c3dcb903-1a1d-4307-8f5a-57758ab0cd42",
   "metadata": {},
   "outputs": [],
   "source": []
  },
  {
   "cell_type": "code",
   "execution_count": null,
   "id": "ce32571e-5bed-441f-af8a-ec45c4c23f12",
   "metadata": {},
   "outputs": [],
   "source": []
  },
  {
   "cell_type": "code",
   "execution_count": null,
   "id": "6635d373-62ba-4582-8c7c-1e0a35b2b684",
   "metadata": {},
   "outputs": [],
   "source": []
  },
  {
   "cell_type": "code",
   "execution_count": null,
   "id": "19d4835b-9e07-4919-ae0c-e954434c92dd",
   "metadata": {},
   "outputs": [],
   "source": []
  },
  {
   "cell_type": "code",
   "execution_count": null,
   "id": "7eb8ff51-296d-444e-8ffa-4d3807f79bd0",
   "metadata": {},
   "outputs": [],
   "source": []
  },
  {
   "cell_type": "code",
   "execution_count": null,
   "id": "5d4a5b63-d0cc-4d4e-8068-56951dcc44d1",
   "metadata": {},
   "outputs": [],
   "source": []
  },
  {
   "cell_type": "code",
   "execution_count": null,
   "id": "9528dcb4-495e-4fdc-a80b-22f2f6536a67",
   "metadata": {},
   "outputs": [],
   "source": []
  },
  {
   "cell_type": "code",
   "execution_count": null,
   "id": "c8f5b5cd-d390-49dd-97ef-eaa448f50aa8",
   "metadata": {},
   "outputs": [],
   "source": []
  },
  {
   "cell_type": "code",
   "execution_count": null,
   "id": "d89308c2-e133-4426-8d64-0cedcfd25140",
   "metadata": {},
   "outputs": [],
   "source": []
  },
  {
   "cell_type": "code",
   "execution_count": null,
   "id": "6b6e931e-d896-40ba-905b-37c82696a627",
   "metadata": {},
   "outputs": [],
   "source": []
  },
  {
   "cell_type": "code",
   "execution_count": null,
   "id": "0a4622d2-8426-4621-85cd-5f1d8ddd4a0a",
   "metadata": {},
   "outputs": [],
   "source": []
  },
  {
   "cell_type": "code",
   "execution_count": null,
   "id": "855878ec-f460-493e-a1cf-3a4cd638c597",
   "metadata": {},
   "outputs": [],
   "source": []
  },
  {
   "cell_type": "code",
   "execution_count": null,
   "id": "d3b72b45-46ea-47e6-a14e-c58fc39c4621",
   "metadata": {},
   "outputs": [],
   "source": []
  },
  {
   "cell_type": "code",
   "execution_count": null,
   "id": "d6ef5dad-e5c0-4f85-9487-a5121e6e9b73",
   "metadata": {},
   "outputs": [],
   "source": []
  },
  {
   "cell_type": "code",
   "execution_count": null,
   "id": "0c565369-5d78-4b56-b40f-5489e638f379",
   "metadata": {},
   "outputs": [],
   "source": []
  },
  {
   "cell_type": "code",
   "execution_count": null,
   "id": "de50ab0c-d953-4db2-bc63-fb42945b70a2",
   "metadata": {},
   "outputs": [],
   "source": []
  },
  {
   "cell_type": "code",
   "execution_count": null,
   "id": "d034ac4d-906f-45a6-90d5-f36238bd6e88",
   "metadata": {},
   "outputs": [],
   "source": []
  },
  {
   "cell_type": "code",
   "execution_count": null,
   "id": "db2ef0c2-e773-416d-b902-15f5cd82495f",
   "metadata": {},
   "outputs": [],
   "source": []
  },
  {
   "cell_type": "code",
   "execution_count": null,
   "id": "c3019a24-296b-41d6-b62d-f96d0be4f163",
   "metadata": {},
   "outputs": [],
   "source": []
  },
  {
   "cell_type": "code",
   "execution_count": null,
   "id": "17c6053e-5695-4614-8c7a-e87c6a386012",
   "metadata": {},
   "outputs": [],
   "source": []
  },
  {
   "cell_type": "code",
   "execution_count": null,
   "id": "6a0c9c86-2caa-4f72-b119-f47a750ec115",
   "metadata": {},
   "outputs": [],
   "source": []
  },
  {
   "cell_type": "code",
   "execution_count": null,
   "id": "60054167-4790-40ab-98ea-7346c90ffc89",
   "metadata": {},
   "outputs": [],
   "source": []
  },
  {
   "cell_type": "code",
   "execution_count": null,
   "id": "12a4f81b-add9-4f48-9339-49ddec4bf069",
   "metadata": {},
   "outputs": [],
   "source": []
  },
  {
   "cell_type": "code",
   "execution_count": null,
   "id": "8f537526-c6d3-4599-a088-3f115ed77af5",
   "metadata": {},
   "outputs": [],
   "source": []
  },
  {
   "cell_type": "code",
   "execution_count": null,
   "id": "2f336c25-f7b1-4807-bfdb-fa54c28b8448",
   "metadata": {},
   "outputs": [],
   "source": []
  },
  {
   "cell_type": "code",
   "execution_count": 2,
   "id": "66b1f830-fd25-4666-8afc-a0c5e35dd8c1",
   "metadata": {},
   "outputs": [
    {
     "name": "stdin",
     "output_type": "stream",
     "text": [
      "Guess a number between 1 and 100:  99\n"
     ]
    },
    {
     "name": "stdout",
     "output_type": "stream",
     "text": [
      "Too high!\n"
     ]
    },
    {
     "name": "stdin",
     "output_type": "stream",
     "text": [
      "Guess a number between 1 and 100:  1\n"
     ]
    },
    {
     "name": "stdout",
     "output_type": "stream",
     "text": [
      "Too low!\n"
     ]
    },
    {
     "name": "stdin",
     "output_type": "stream",
     "text": [
      "Guess a number between 1 and 100:  50\n"
     ]
    },
    {
     "name": "stdout",
     "output_type": "stream",
     "text": [
      "Too low!\n"
     ]
    },
    {
     "name": "stdin",
     "output_type": "stream",
     "text": [
      "Guess a number between 1 and 100:  78\n"
     ]
    },
    {
     "name": "stdout",
     "output_type": "stream",
     "text": [
      "Too high!\n"
     ]
    },
    {
     "name": "stdin",
     "output_type": "stream",
     "text": [
      "Guess a number between 1 and 100:  60\n"
     ]
    },
    {
     "name": "stdout",
     "output_type": "stream",
     "text": [
      "Too high!\n"
     ]
    },
    {
     "name": "stdin",
     "output_type": "stream",
     "text": [
      "Guess a number between 1 and 100:  5\n"
     ]
    },
    {
     "name": "stdout",
     "output_type": "stream",
     "text": [
      "Too low!\n"
     ]
    },
    {
     "name": "stdin",
     "output_type": "stream",
     "text": [
      "Guess a number between 1 and 100:  55\n"
     ]
    },
    {
     "name": "stdout",
     "output_type": "stream",
     "text": [
      "Correct!\n"
     ]
    }
   ],
   "source": [
    "import random\n",
    "\n",
    "number = random.randint(1, 100)\n",
    "guess = None\n",
    "\n",
    "while guess != number:\n",
    "    guess = int(input(\"Guess a number between 1 and 100: \"))\n",
    "    if guess > number:\n",
    "        print(\"Too high!\")\n",
    "    elif guess < number:\n",
    "        print(\"Too low!\")\n",
    "    else:\n",
    "        print(\"Correct!\")"
   ]
  },
  {
   "cell_type": "code",
   "execution_count": null,
   "id": "4c5fd5cf-3d5f-4373-9805-7ba282b37802",
   "metadata": {},
   "outputs": [],
   "source": []
  }
 ],
 "metadata": {
  "kernelspec": {
   "display_name": "Python3.12",
   "language": "python",
   "name": "python3"
  },
  "language_info": {
   "codemirror_mode": {
    "name": "ipython",
    "version": 3
   },
   "file_extension": ".py",
   "mimetype": "text/x-python",
   "name": "python",
   "nbconvert_exporter": "python",
   "pygments_lexer": "ipython3",
   "version": "3.12.3"
  }
 },
 "nbformat": 4,
 "nbformat_minor": 5
}
