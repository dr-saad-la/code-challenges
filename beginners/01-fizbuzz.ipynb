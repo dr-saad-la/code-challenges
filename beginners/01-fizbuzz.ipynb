{
 "cells": [
  {
   "cell_type": "code",
   "execution_count": null,
   "id": "402b730a-d2e8-47dc-adbe-dc21dac46b8b",
   "metadata": {},
   "outputs": [],
   "source": [
    "### ===============================================================\n",
    "###                                                             ===\n",
    "###                REPOSITORY: Code Challenges 🧠               ===\n",
    "###                AUTHOR: Dr. Saad Laouadi                     ===\n",
    "###                                                             ===\n",
    "### ===============================================================\n",
    "###                CHALLENGE TITLE: FizzBuzz Challenge          ===\n",
    "###                DIFFICULTY: Beginner                         ===\n",
    "###                LANGUAGE: Python                             ===\n",
    "###                TOPIC: Loops and Conditionals                ===\n",
    "###                ESTIMATED COMPLETION TIME: 10 minutes        ===\n",
    "### ==============================================================="
   ]
  },
  {
   "cell_type": "markdown",
   "id": "f9816f10-d3fd-420f-bb25-07eb50f63e23",
   "metadata": {},
   "source": [
    "### Description:\n",
    "\n",
    "In this classic challenge, you will write a program that prints the numbers from 1 to 50. However, for numbers divisible by 3, print \"Fizz\" instead of the number, and for numbers divisible by 5, print \"Buzz.\" For numbers divisible by both 3 and 5, print \"FizzBuzz.\" This is a great exercise to practice conditional statements and loops.\n",
    "\n",
    "### Learning Objectives:\n",
    "- **Master conditionals**: Learn how to effectively use `if`, `elif`, and `else` statements to create decision-making logic.\n",
    "- **Practice loops**: Get comfortable using loops to iterate over a range of numbers and apply logic to each number.\n",
    "  \n",
    "### Challenge Instructions:\n",
    "\n",
    "1. **Print numbers from 1 to 50**:\n",
    "   - For multiples of 3, print \"Fizz\".\n",
    "   - For multiples of 5, print \"Buzz\".\n",
    "   - For multiples of both 3 and 5, print \"FizzBuzz\".\n",
    "   - Otherwise, print the number.\n",
    "\n",
    "---\n",
    "\n",
    "### Input & Output:\n",
    "- **Input**: No inputs required.\n",
    "- **Output**: Print numbers and the words \"Fizz\", \"Buzz\", or \"FizzBuzz\" as required.\n",
    "\n",
    "### Constraints:\n",
    "- Use only loops and conditionals.\n",
    "\n",
    "---\n",
    "\n",
    "### Related Topics:\n",
    "- **Loops**\n",
    "- **Conditional Statements**\n",
    "  \n",
    "---\n",
    "\n",
    "**Goal**:\n",
    "- Understand how to use conditionals and loops to create decision-based output.\n",
    "\n",
    "---\n",
    "\n",
    "**Copyright © Dr. Saad Laouadi**"
   ]
  },
  {
   "cell_type": "code",
   "execution_count": null,
   "id": "fe699e77-a50b-4f49-a666-74c5b85b9a59",
   "metadata": {},
   "outputs": [],
   "source": [
    "# Write your solution here"
   ]
  },
  {
   "cell_type": "code",
   "execution_count": null,
   "id": "c0163c63-c101-48d0-811d-5d3fb7b5d9df",
   "metadata": {},
   "outputs": [],
   "source": []
  },
  {
   "cell_type": "code",
   "execution_count": null,
   "id": "22338002-9e59-4c6a-8ea5-82e7fd01f4a9",
   "metadata": {},
   "outputs": [],
   "source": []
  },
  {
   "cell_type": "code",
   "execution_count": null,
   "id": "06826898-be6b-4bb7-b4a5-6241ae515ef2",
   "metadata": {},
   "outputs": [],
   "source": []
  },
  {
   "cell_type": "code",
   "execution_count": null,
   "id": "478425d3-7ea4-4fe2-b1af-e9e210b9d625",
   "metadata": {},
   "outputs": [],
   "source": []
  },
  {
   "cell_type": "code",
   "execution_count": null,
   "id": "33495f65-5ad1-471d-9bfa-5ace7441e2db",
   "metadata": {},
   "outputs": [],
   "source": []
  },
  {
   "cell_type": "code",
   "execution_count": null,
   "id": "f19a4444-6de9-4744-93d8-6417178c1b70",
   "metadata": {},
   "outputs": [],
   "source": []
  },
  {
   "cell_type": "code",
   "execution_count": null,
   "id": "bb10ce2d-dbac-47d6-b126-4df0d99eae48",
   "metadata": {},
   "outputs": [],
   "source": []
  },
  {
   "cell_type": "code",
   "execution_count": null,
   "id": "fe875a87-549d-4246-8484-8ab514674643",
   "metadata": {},
   "outputs": [],
   "source": []
  },
  {
   "cell_type": "code",
   "execution_count": null,
   "id": "bd182be5-0a1b-4501-9d39-7ae21d8b74ce",
   "metadata": {},
   "outputs": [],
   "source": []
  },
  {
   "cell_type": "code",
   "execution_count": null,
   "id": "6ff42d23-0ac9-4279-a284-376579ec22a1",
   "metadata": {},
   "outputs": [],
   "source": []
  },
  {
   "cell_type": "code",
   "execution_count": null,
   "id": "813f1658-785d-4ab1-ab5d-0a4175a8dc03",
   "metadata": {},
   "outputs": [],
   "source": []
  },
  {
   "cell_type": "code",
   "execution_count": null,
   "id": "22ddafa6-89ea-4b88-8bac-839d3695e5b3",
   "metadata": {},
   "outputs": [],
   "source": []
  },
  {
   "cell_type": "code",
   "execution_count": null,
   "id": "124fbc07-d710-4328-9be2-86d33e6dab8a",
   "metadata": {},
   "outputs": [],
   "source": []
  },
  {
   "cell_type": "code",
   "execution_count": null,
   "id": "484ff9b7-47b8-46ec-8d6b-4a15f13f14f1",
   "metadata": {},
   "outputs": [],
   "source": []
  },
  {
   "cell_type": "code",
   "execution_count": null,
   "id": "7b2ce415-0e55-42db-b3c6-475b2bce31e5",
   "metadata": {},
   "outputs": [],
   "source": []
  },
  {
   "cell_type": "code",
   "execution_count": null,
   "id": "d72f9e70-022a-4ae3-98ab-a71c2067cee6",
   "metadata": {},
   "outputs": [],
   "source": []
  },
  {
   "cell_type": "code",
   "execution_count": null,
   "id": "c280b0e0-8c7c-4068-be1a-60f3395ffc0b",
   "metadata": {},
   "outputs": [],
   "source": []
  },
  {
   "cell_type": "code",
   "execution_count": null,
   "id": "1bb1920c-d168-45dd-8180-81defa204c86",
   "metadata": {},
   "outputs": [],
   "source": []
  },
  {
   "cell_type": "code",
   "execution_count": null,
   "id": "01303bcd-bbc1-4896-8ad2-b84e9d64299a",
   "metadata": {},
   "outputs": [],
   "source": []
  },
  {
   "cell_type": "code",
   "execution_count": null,
   "id": "6185966c-9f94-4847-ba4c-7bdc969c0720",
   "metadata": {},
   "outputs": [],
   "source": []
  },
  {
   "cell_type": "code",
   "execution_count": null,
   "id": "da01e0f1-aabe-483c-a7aa-06af5732b6c9",
   "metadata": {},
   "outputs": [],
   "source": []
  },
  {
   "cell_type": "code",
   "execution_count": null,
   "id": "d5d123af-7f64-4fc1-b0e6-6270355e863e",
   "metadata": {},
   "outputs": [],
   "source": []
  },
  {
   "cell_type": "code",
   "execution_count": null,
   "id": "38439273-584b-4779-b2ac-b88d7de67dcf",
   "metadata": {},
   "outputs": [],
   "source": []
  },
  {
   "cell_type": "code",
   "execution_count": null,
   "id": "65ee06e9-a864-4bea-985a-e61b0f1df576",
   "metadata": {},
   "outputs": [],
   "source": []
  },
  {
   "cell_type": "code",
   "execution_count": null,
   "id": "6fe532b9-273e-4d7d-af66-bad3e36b630b",
   "metadata": {},
   "outputs": [],
   "source": []
  },
  {
   "cell_type": "code",
   "execution_count": null,
   "id": "9973187b-ff11-4d5d-bb4d-67ab0047b233",
   "metadata": {},
   "outputs": [],
   "source": []
  },
  {
   "cell_type": "code",
   "execution_count": null,
   "id": "1a4fdcec-a729-4131-9f18-5fa37ded4760",
   "metadata": {},
   "outputs": [],
   "source": []
  },
  {
   "cell_type": "code",
   "execution_count": null,
   "id": "6e24da81-8a15-4695-adc8-e6b5a306b18a",
   "metadata": {},
   "outputs": [],
   "source": []
  },
  {
   "cell_type": "code",
   "execution_count": null,
   "id": "75429e58-2ebe-45b1-8ef6-19972a9807fc",
   "metadata": {},
   "outputs": [],
   "source": []
  },
  {
   "cell_type": "code",
   "execution_count": null,
   "id": "edbac02c-06fb-46f9-b640-3fe349b05a4a",
   "metadata": {},
   "outputs": [],
   "source": []
  },
  {
   "cell_type": "code",
   "execution_count": null,
   "id": "0e8b87aa-586c-4ff6-b154-dee5733cd284",
   "metadata": {},
   "outputs": [],
   "source": []
  },
  {
   "cell_type": "code",
   "execution_count": null,
   "id": "4465de3d-71d2-45d9-98bc-f6aa70d1e01c",
   "metadata": {},
   "outputs": [],
   "source": []
  },
  {
   "cell_type": "code",
   "execution_count": null,
   "id": "3b8e9b1a-ad0e-4db7-bf42-46179e687787",
   "metadata": {},
   "outputs": [],
   "source": []
  },
  {
   "cell_type": "code",
   "execution_count": null,
   "id": "dc84bb99-98ab-4cdd-8ff0-afd3f86bee0b",
   "metadata": {},
   "outputs": [],
   "source": [
    "# Solution\n",
    "for num in range(1, 51):\n",
    "    if num % 3 == 0 and num % 5 == 0:\n",
    "        print(\"FizzBuzz\")\n",
    "    elif num % 3 == 0:\n",
    "        print(\"Fizz\")\n",
    "    elif num % 5 == 0:\n",
    "        print(\"Buzz\")\n",
    "    else:\n",
    "        print(num)"
   ]
  },
  {
   "cell_type": "code",
   "execution_count": null,
   "id": "3ecd65c9-1d22-4e6a-a47e-7ae003a0e714",
   "metadata": {},
   "outputs": [],
   "source": []
  }
 ],
 "metadata": {
  "kernelspec": {
   "display_name": "Mamba Base",
   "language": "python",
   "name": "base"
  },
  "language_info": {
   "codemirror_mode": {
    "name": "ipython",
    "version": 3
   },
   "file_extension": ".py",
   "mimetype": "text/x-python",
   "name": "python",
   "nbconvert_exporter": "python",
   "pygments_lexer": "ipython3",
   "version": "3.10.14"
  }
 },
 "nbformat": 4,
 "nbformat_minor": 5
}
