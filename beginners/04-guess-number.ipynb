{
 "cells": [
  {
   "cell_type": "code",
   "execution_count": null,
   "id": "39662336-baee-49e4-ba55-d2b1868648ff",
   "metadata": {},
   "outputs": [],
   "source": [
    "### ==============================================================\n",
    "###                                                             ===\n",
    "###                REPOSITORY: Code Challenges 🧠               ===\n",
    "###                AUTHOR: Dr. Saad Laouadi                     ===\n",
    "###                                                             ===\n",
    "### ==============================================================\n",
    "###                CHALLENGE TITLE: Guess the Number            ===\n",
    "###                DIFFICULTY: Beginner                         ===\n",
    "###                LANGUAGE: Python                             ===\n",
    "###                TOPIC: Random Numbers, User Input, Loops     ===\n",
    "###                ESTIMATED COMPLETION TIME: 10-15 minutes     ===\n",
    "### =============================================================="
   ]
  },
  {
   "cell_type": "markdown",
   "id": "2576acb1-ff66-43df-962d-aa8549781bf0",
   "metadata": {},
   "source": [
    "### Description:\n",
    "In this challenge, you will write a Python program that selects a random number between 1 and 100. The user has to guess the number, and the program provides feedback on whether the guess is too high, too low, or correct. This exercise helps you practice generating random numbers, using loops, and handling user input.\n",
    "\n",
    "### Learning Objectives:\n",
    "- **Random Number Generation**: Learn how to generate random numbers using Python's `random` module.\n",
    "- **User Input**: Understand how to get input from the user using the `input()` function.\n",
    "- **Loops and Conditionals**: Use while loops and conditionals to provide feedback and control the game flow.\n",
    "\n",
    "### Challenge Instructions:\n",
    "1. **Generate a Random Number**: Use the `random` module to select a number between 1 and 100.\n",
    "2. **Prompt User for Guess**: Use the `input()` function to get guesses from the user.\n",
    "3. **Provide Feedback**: Tell the user if their guess is too high, too low, or correct.\n",
    "4. **Continue Looping**: Use a `while` loop to keep asking for guesses until the correct number is found.\n",
    "\n",
    "---\n",
    "\n",
    "### Input & Output:\n",
    "- **Input**: The user's guess (an integer between 1 and 100).\n",
    "- **Output**: Feedback indicating whether the guess is too high, too low, or correct.\n",
    "\n",
    "### Constraints:\n",
    "- Use the `random` module to generate the random number.\n",
    "- Use a `while` loop to allow multiple guesses until the correct number is found.\n",
    "\n",
    "---\n",
    "\n",
    "### Related Topics:\n",
    "- **Random Numbers**\n",
    "- **User Input**\n",
    "- **While Loops**\n",
    "  \n",
    "---\n",
    "\n",
    "**Goal**:\n",
    "- Learn about user input, random number generation, and while loops in Python.\n",
    "\n",
    "---\n",
    "\n",
    "**Copyright © Dr. Saad Laouadi**"
   ]
  },
  {
   "cell_type": "code",
   "execution_count": null,
   "id": "338d40f0-e7f4-482f-9ef0-05d06f6ecadc",
   "metadata": {},
   "outputs": [],
   "source": []
  },
  {
   "cell_type": "code",
   "execution_count": null,
   "id": "2e0e07fa-7256-416c-8e63-5ec0a52e9d85",
   "metadata": {},
   "outputs": [],
   "source": []
  },
  {
   "cell_type": "code",
   "execution_count": null,
   "id": "ea83837f-8684-4e1d-bc88-4f9cf305ed8c",
   "metadata": {},
   "outputs": [],
   "source": []
  },
  {
   "cell_type": "code",
   "execution_count": null,
   "id": "b1b8d2a3-d683-46ae-b288-a7f25cde89ec",
   "metadata": {},
   "outputs": [],
   "source": []
  },
  {
   "cell_type": "code",
   "execution_count": null,
   "id": "5c4f5874-f628-4112-a597-026f77e5f5e7",
   "metadata": {},
   "outputs": [],
   "source": []
  },
  {
   "cell_type": "code",
   "execution_count": null,
   "id": "d184f2ea-4f00-4676-8e64-1331149710c6",
   "metadata": {},
   "outputs": [],
   "source": []
  },
  {
   "cell_type": "code",
   "execution_count": null,
   "id": "f1743a1e-c9a6-450b-bb23-7fe5ca9ff076",
   "metadata": {},
   "outputs": [],
   "source": []
  },
  {
   "cell_type": "code",
   "execution_count": null,
   "id": "f5fb3e94-2c9a-4e85-a193-95d483384f51",
   "metadata": {},
   "outputs": [],
   "source": []
  },
  {
   "cell_type": "code",
   "execution_count": null,
   "id": "c55559a2-83dd-431b-b5a6-70d22a548d86",
   "metadata": {},
   "outputs": [],
   "source": []
  },
  {
   "cell_type": "code",
   "execution_count": null,
   "id": "af284a20-0c93-429a-9c15-c10ad0334b9f",
   "metadata": {},
   "outputs": [],
   "source": []
  },
  {
   "cell_type": "code",
   "execution_count": null,
   "id": "6d57f35d-53ed-4c1f-b068-e2b0e3c07941",
   "metadata": {},
   "outputs": [],
   "source": []
  },
  {
   "cell_type": "code",
   "execution_count": null,
   "id": "6506cff0-2bad-44eb-bb09-6f0e33a6d55a",
   "metadata": {},
   "outputs": [],
   "source": []
  },
  {
   "cell_type": "code",
   "execution_count": null,
   "id": "e1b41673-a868-484f-8dae-43ff8ae6431a",
   "metadata": {},
   "outputs": [],
   "source": []
  },
  {
   "cell_type": "code",
   "execution_count": null,
   "id": "ec463aee-3347-43ca-8f5f-389e5b21a8db",
   "metadata": {},
   "outputs": [],
   "source": []
  },
  {
   "cell_type": "code",
   "execution_count": null,
   "id": "3308f20e-42b6-4ab6-8949-d35b85270e62",
   "metadata": {},
   "outputs": [],
   "source": []
  },
  {
   "cell_type": "code",
   "execution_count": null,
   "id": "5aa54b0e-e905-4401-8e2c-05f580deaef5",
   "metadata": {},
   "outputs": [],
   "source": []
  },
  {
   "cell_type": "code",
   "execution_count": null,
   "id": "220fecec-729d-400b-b608-0cd74e8eae33",
   "metadata": {},
   "outputs": [],
   "source": []
  },
  {
   "cell_type": "code",
   "execution_count": null,
   "id": "6f1dcf56-d3eb-47c4-8fae-432d22691371",
   "metadata": {},
   "outputs": [],
   "source": []
  },
  {
   "cell_type": "code",
   "execution_count": null,
   "id": "8669f6fb-2076-490a-9a8f-70c95f64e883",
   "metadata": {},
   "outputs": [],
   "source": []
  },
  {
   "cell_type": "code",
   "execution_count": null,
   "id": "9b579185-5253-4d71-aff1-08aa968c5ec4",
   "metadata": {},
   "outputs": [],
   "source": []
  },
  {
   "cell_type": "code",
   "execution_count": null,
   "id": "00dc07de-cc13-4ab8-bbce-765969c371c8",
   "metadata": {},
   "outputs": [],
   "source": []
  }
 ],
 "metadata": {
  "kernelspec": {
   "display_name": "Python3.12",
   "language": "python",
   "name": "python3"
  },
  "language_info": {
   "codemirror_mode": {
    "name": "ipython",
    "version": 3
   },
   "file_extension": ".py",
   "mimetype": "text/x-python",
   "name": "python",
   "nbconvert_exporter": "python",
   "pygments_lexer": "ipython3",
   "version": "3.12.3"
  }
 },
 "nbformat": 4,
 "nbformat_minor": 5
}
